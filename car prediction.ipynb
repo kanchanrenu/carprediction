{
 "cells": [
  {
   "cell_type": "code",
   "execution_count": 1,
   "metadata": {},
   "outputs": [],
   "source": [
    "#pip install pandas"
   ]
  },
  {
   "cell_type": "code",
   "execution_count": 2,
   "metadata": {},
   "outputs": [],
   "source": [
    "import pandas as pd"
   ]
  },
  {
   "cell_type": "code",
   "execution_count": 18,
   "metadata": {},
   "outputs": [],
   "source": [
    "#pd.pandas.set_option('displaym ax columns',12)"
   ]
  },
  {
   "cell_type": "code",
   "execution_count": 19,
   "metadata": {},
   "outputs": [],
   "source": [
    "df=pd.read_csv(\"CAR DETAILS FROM CAR DEKHO.csv\")"
   ]
  },
  {
   "cell_type": "code",
   "execution_count": 20,
   "metadata": {},
   "outputs": [
    {
     "data": {
      "text/plain": [
       "(4340, 8)"
      ]
     },
     "execution_count": 20,
     "metadata": {},
     "output_type": "execute_result"
    }
   ],
   "source": [
    "df.shape"
   ]
  },
  {
   "cell_type": "code",
   "execution_count": 21,
   "metadata": {},
   "outputs": [
    {
     "data": {
      "text/plain": [
       "Index(['name', 'year', 'selling_price', 'km_driven', 'fuel', 'seller_type',\n",
       "       'transmission', 'owner'],\n",
       "      dtype='object')"
      ]
     },
     "execution_count": 21,
     "metadata": {},
     "output_type": "execute_result"
    }
   ],
   "source": [
    "df.columns"
   ]
  },
  {
   "cell_type": "code",
   "execution_count": 22,
   "metadata": {},
   "outputs": [
    {
     "name": "stdout",
     "output_type": "stream",
     "text": [
      "['Individual' 'Dealer' 'Trustmark Dealer']\n"
     ]
    }
   ],
   "source": [
    "print(df['seller_type'].unique())"
   ]
  },
  {
   "cell_type": "code",
   "execution_count": 23,
   "metadata": {},
   "outputs": [
    {
     "name": "stdout",
     "output_type": "stream",
     "text": [
      "['Manual' 'Automatic']\n"
     ]
    }
   ],
   "source": [
    "print(df['transmission'].unique())"
   ]
  },
  {
   "cell_type": "code",
   "execution_count": 24,
   "metadata": {},
   "outputs": [
    {
     "name": "stdout",
     "output_type": "stream",
     "text": [
      "['First Owner' 'Second Owner' 'Fourth & Above Owner' 'Third Owner'\n",
      " 'Test Drive Car']\n"
     ]
    }
   ],
   "source": [
    "print(df['owner'].unique())"
   ]
  },
  {
   "cell_type": "code",
   "execution_count": 25,
   "metadata": {},
   "outputs": [
    {
     "data": {
      "text/html": [
       "<div>\n",
       "<style scoped>\n",
       "    .dataframe tbody tr th:only-of-type {\n",
       "        vertical-align: middle;\n",
       "    }\n",
       "\n",
       "    .dataframe tbody tr th {\n",
       "        vertical-align: top;\n",
       "    }\n",
       "\n",
       "    .dataframe thead th {\n",
       "        text-align: right;\n",
       "    }\n",
       "</style>\n",
       "<table border=\"1\" class=\"dataframe\">\n",
       "  <thead>\n",
       "    <tr style=\"text-align: right;\">\n",
       "      <th></th>\n",
       "      <th>year</th>\n",
       "      <th>selling_price</th>\n",
       "      <th>km_driven</th>\n",
       "    </tr>\n",
       "  </thead>\n",
       "  <tbody>\n",
       "    <tr>\n",
       "      <th>count</th>\n",
       "      <td>4340.000000</td>\n",
       "      <td>4.340000e+03</td>\n",
       "      <td>4340.000000</td>\n",
       "    </tr>\n",
       "    <tr>\n",
       "      <th>mean</th>\n",
       "      <td>2013.090783</td>\n",
       "      <td>5.041273e+05</td>\n",
       "      <td>66215.777419</td>\n",
       "    </tr>\n",
       "    <tr>\n",
       "      <th>std</th>\n",
       "      <td>4.215344</td>\n",
       "      <td>5.785487e+05</td>\n",
       "      <td>46644.102194</td>\n",
       "    </tr>\n",
       "    <tr>\n",
       "      <th>min</th>\n",
       "      <td>1992.000000</td>\n",
       "      <td>2.000000e+04</td>\n",
       "      <td>1.000000</td>\n",
       "    </tr>\n",
       "    <tr>\n",
       "      <th>25%</th>\n",
       "      <td>2011.000000</td>\n",
       "      <td>2.087498e+05</td>\n",
       "      <td>35000.000000</td>\n",
       "    </tr>\n",
       "    <tr>\n",
       "      <th>50%</th>\n",
       "      <td>2014.000000</td>\n",
       "      <td>3.500000e+05</td>\n",
       "      <td>60000.000000</td>\n",
       "    </tr>\n",
       "    <tr>\n",
       "      <th>75%</th>\n",
       "      <td>2016.000000</td>\n",
       "      <td>6.000000e+05</td>\n",
       "      <td>90000.000000</td>\n",
       "    </tr>\n",
       "    <tr>\n",
       "      <th>max</th>\n",
       "      <td>2020.000000</td>\n",
       "      <td>8.900000e+06</td>\n",
       "      <td>806599.000000</td>\n",
       "    </tr>\n",
       "  </tbody>\n",
       "</table>\n",
       "</div>"
      ],
      "text/plain": [
       "              year  selling_price      km_driven\n",
       "count  4340.000000   4.340000e+03    4340.000000\n",
       "mean   2013.090783   5.041273e+05   66215.777419\n",
       "std       4.215344   5.785487e+05   46644.102194\n",
       "min    1992.000000   2.000000e+04       1.000000\n",
       "25%    2011.000000   2.087498e+05   35000.000000\n",
       "50%    2014.000000   3.500000e+05   60000.000000\n",
       "75%    2016.000000   6.000000e+05   90000.000000\n",
       "max    2020.000000   8.900000e+06  806599.000000"
      ]
     },
     "execution_count": 25,
     "metadata": {},
     "output_type": "execute_result"
    }
   ],
   "source": [
    "df.describe()"
   ]
  },
  {
   "cell_type": "code",
   "execution_count": 26,
   "metadata": {},
   "outputs": [],
   "source": [
    "final_dataset=df[['year', 'selling_price', 'km_driven', 'fuel', 'seller_type',\n",
    "       'transmission', 'owner']]"
   ]
  },
  {
   "cell_type": "code",
   "execution_count": 27,
   "metadata": {},
   "outputs": [],
   "source": [
    "#ctreating new feature\n",
    "final_dataset['current_year']=2020"
   ]
  },
  {
   "cell_type": "code",
   "execution_count": 28,
   "metadata": {},
   "outputs": [],
   "source": [
    "final_dataset['no_of_years']=final_dataset['current_year']-final_dataset['year']"
   ]
  },
  {
   "cell_type": "code",
   "execution_count": 29,
   "metadata": {},
   "outputs": [],
   "source": [
    "final_dataset.drop(['year','current_year'],axis=1,inplace=True)"
   ]
  },
  {
   "cell_type": "code",
   "execution_count": null,
   "metadata": {},
   "outputs": [],
   "source": []
  },
  {
   "cell_type": "code",
   "execution_count": 30,
   "metadata": {},
   "outputs": [],
   "source": [
    "final_dataset=pd.get_dummies(final_dataset,drop_first=True)"
   ]
  },
  {
   "cell_type": "code",
   "execution_count": 31,
   "metadata": {},
   "outputs": [
    {
     "data": {
      "text/html": [
       "<div>\n",
       "<style scoped>\n",
       "    .dataframe tbody tr th:only-of-type {\n",
       "        vertical-align: middle;\n",
       "    }\n",
       "\n",
       "    .dataframe tbody tr th {\n",
       "        vertical-align: top;\n",
       "    }\n",
       "\n",
       "    .dataframe thead th {\n",
       "        text-align: right;\n",
       "    }\n",
       "</style>\n",
       "<table border=\"1\" class=\"dataframe\">\n",
       "  <thead>\n",
       "    <tr style=\"text-align: right;\">\n",
       "      <th></th>\n",
       "      <th>selling_price</th>\n",
       "      <th>km_driven</th>\n",
       "      <th>no_of_years</th>\n",
       "      <th>fuel_Diesel</th>\n",
       "      <th>fuel_Electric</th>\n",
       "      <th>fuel_LPG</th>\n",
       "      <th>fuel_Petrol</th>\n",
       "      <th>seller_type_Individual</th>\n",
       "      <th>seller_type_Trustmark Dealer</th>\n",
       "      <th>transmission_Manual</th>\n",
       "      <th>owner_Fourth &amp; Above Owner</th>\n",
       "      <th>owner_Second Owner</th>\n",
       "      <th>owner_Test Drive Car</th>\n",
       "      <th>owner_Third Owner</th>\n",
       "    </tr>\n",
       "  </thead>\n",
       "  <tbody>\n",
       "    <tr>\n",
       "      <th>0</th>\n",
       "      <td>60000</td>\n",
       "      <td>70000</td>\n",
       "      <td>13</td>\n",
       "      <td>0</td>\n",
       "      <td>0</td>\n",
       "      <td>0</td>\n",
       "      <td>1</td>\n",
       "      <td>1</td>\n",
       "      <td>0</td>\n",
       "      <td>1</td>\n",
       "      <td>0</td>\n",
       "      <td>0</td>\n",
       "      <td>0</td>\n",
       "      <td>0</td>\n",
       "    </tr>\n",
       "    <tr>\n",
       "      <th>1</th>\n",
       "      <td>135000</td>\n",
       "      <td>50000</td>\n",
       "      <td>13</td>\n",
       "      <td>0</td>\n",
       "      <td>0</td>\n",
       "      <td>0</td>\n",
       "      <td>1</td>\n",
       "      <td>1</td>\n",
       "      <td>0</td>\n",
       "      <td>1</td>\n",
       "      <td>0</td>\n",
       "      <td>0</td>\n",
       "      <td>0</td>\n",
       "      <td>0</td>\n",
       "    </tr>\n",
       "    <tr>\n",
       "      <th>2</th>\n",
       "      <td>600000</td>\n",
       "      <td>100000</td>\n",
       "      <td>8</td>\n",
       "      <td>1</td>\n",
       "      <td>0</td>\n",
       "      <td>0</td>\n",
       "      <td>0</td>\n",
       "      <td>1</td>\n",
       "      <td>0</td>\n",
       "      <td>1</td>\n",
       "      <td>0</td>\n",
       "      <td>0</td>\n",
       "      <td>0</td>\n",
       "      <td>0</td>\n",
       "    </tr>\n",
       "    <tr>\n",
       "      <th>3</th>\n",
       "      <td>250000</td>\n",
       "      <td>46000</td>\n",
       "      <td>3</td>\n",
       "      <td>0</td>\n",
       "      <td>0</td>\n",
       "      <td>0</td>\n",
       "      <td>1</td>\n",
       "      <td>1</td>\n",
       "      <td>0</td>\n",
       "      <td>1</td>\n",
       "      <td>0</td>\n",
       "      <td>0</td>\n",
       "      <td>0</td>\n",
       "      <td>0</td>\n",
       "    </tr>\n",
       "    <tr>\n",
       "      <th>4</th>\n",
       "      <td>450000</td>\n",
       "      <td>141000</td>\n",
       "      <td>6</td>\n",
       "      <td>1</td>\n",
       "      <td>0</td>\n",
       "      <td>0</td>\n",
       "      <td>0</td>\n",
       "      <td>1</td>\n",
       "      <td>0</td>\n",
       "      <td>1</td>\n",
       "      <td>0</td>\n",
       "      <td>1</td>\n",
       "      <td>0</td>\n",
       "      <td>0</td>\n",
       "    </tr>\n",
       "  </tbody>\n",
       "</table>\n",
       "</div>"
      ],
      "text/plain": [
       "   selling_price  km_driven  no_of_years  fuel_Diesel  fuel_Electric  \\\n",
       "0          60000      70000           13            0              0   \n",
       "1         135000      50000           13            0              0   \n",
       "2         600000     100000            8            1              0   \n",
       "3         250000      46000            3            0              0   \n",
       "4         450000     141000            6            1              0   \n",
       "\n",
       "   fuel_LPG  fuel_Petrol  seller_type_Individual  \\\n",
       "0         0            1                       1   \n",
       "1         0            1                       1   \n",
       "2         0            0                       1   \n",
       "3         0            1                       1   \n",
       "4         0            0                       1   \n",
       "\n",
       "   seller_type_Trustmark Dealer  transmission_Manual  \\\n",
       "0                             0                    1   \n",
       "1                             0                    1   \n",
       "2                             0                    1   \n",
       "3                             0                    1   \n",
       "4                             0                    1   \n",
       "\n",
       "   owner_Fourth & Above Owner  owner_Second Owner  owner_Test Drive Car  \\\n",
       "0                           0                   0                     0   \n",
       "1                           0                   0                     0   \n",
       "2                           0                   0                     0   \n",
       "3                           0                   0                     0   \n",
       "4                           0                   1                     0   \n",
       "\n",
       "   owner_Third Owner  \n",
       "0                  0  \n",
       "1                  0  \n",
       "2                  0  \n",
       "3                  0  \n",
       "4                  0  "
      ]
     },
     "execution_count": 31,
     "metadata": {},
     "output_type": "execute_result"
    }
   ],
   "source": [
    "final_dataset.head()"
   ]
  },
  {
   "cell_type": "code",
   "execution_count": 32,
   "metadata": {},
   "outputs": [
    {
     "data": {
      "text/html": [
       "<div>\n",
       "<style scoped>\n",
       "    .dataframe tbody tr th:only-of-type {\n",
       "        vertical-align: middle;\n",
       "    }\n",
       "\n",
       "    .dataframe tbody tr th {\n",
       "        vertical-align: top;\n",
       "    }\n",
       "\n",
       "    .dataframe thead th {\n",
       "        text-align: right;\n",
       "    }\n",
       "</style>\n",
       "<table border=\"1\" class=\"dataframe\">\n",
       "  <thead>\n",
       "    <tr style=\"text-align: right;\">\n",
       "      <th></th>\n",
       "      <th>selling_price</th>\n",
       "      <th>km_driven</th>\n",
       "      <th>no_of_years</th>\n",
       "      <th>fuel_Diesel</th>\n",
       "      <th>fuel_Electric</th>\n",
       "      <th>fuel_LPG</th>\n",
       "      <th>fuel_Petrol</th>\n",
       "      <th>seller_type_Individual</th>\n",
       "      <th>seller_type_Trustmark Dealer</th>\n",
       "      <th>transmission_Manual</th>\n",
       "      <th>owner_Fourth &amp; Above Owner</th>\n",
       "      <th>owner_Second Owner</th>\n",
       "      <th>owner_Test Drive Car</th>\n",
       "      <th>owner_Third Owner</th>\n",
       "    </tr>\n",
       "  </thead>\n",
       "  <tbody>\n",
       "    <tr>\n",
       "      <th>selling_price</th>\n",
       "      <td>1.000000</td>\n",
       "      <td>-0.192289</td>\n",
       "      <td>-0.413922</td>\n",
       "      <td>0.282947</td>\n",
       "      <td>-0.005095</td>\n",
       "      <td>-0.042434</td>\n",
       "      <td>-0.269453</td>\n",
       "      <td>-0.236798</td>\n",
       "      <td>0.110176</td>\n",
       "      <td>-0.530205</td>\n",
       "      <td>-0.078725</td>\n",
       "      <td>-0.161986</td>\n",
       "      <td>0.048799</td>\n",
       "      <td>-0.111326</td>\n",
       "    </tr>\n",
       "    <tr>\n",
       "      <th>km_driven</th>\n",
       "      <td>-0.192289</td>\n",
       "      <td>1.000000</td>\n",
       "      <td>0.419688</td>\n",
       "      <td>0.285396</td>\n",
       "      <td>-0.001372</td>\n",
       "      <td>0.036652</td>\n",
       "      <td>-0.291139</td>\n",
       "      <td>0.182663</td>\n",
       "      <td>-0.089858</td>\n",
       "      <td>0.120226</td>\n",
       "      <td>0.097349</td>\n",
       "      <td>0.195203</td>\n",
       "      <td>-0.083445</td>\n",
       "      <td>0.194713</td>\n",
       "    </tr>\n",
       "    <tr>\n",
       "      <th>no_of_years</th>\n",
       "      <td>-0.413922</td>\n",
       "      <td>0.419688</td>\n",
       "      <td>1.000000</td>\n",
       "      <td>-0.121424</td>\n",
       "      <td>0.025540</td>\n",
       "      <td>0.051266</td>\n",
       "      <td>0.114908</td>\n",
       "      <td>0.173703</td>\n",
       "      <td>-0.100225</td>\n",
       "      <td>0.143800</td>\n",
       "      <td>0.186361</td>\n",
       "      <td>0.292349</td>\n",
       "      <td>-0.095795</td>\n",
       "      <td>0.244308</td>\n",
       "    </tr>\n",
       "    <tr>\n",
       "      <th>fuel_Diesel</th>\n",
       "      <td>0.282947</td>\n",
       "      <td>0.285396</td>\n",
       "      <td>-0.121424</td>\n",
       "      <td>1.000000</td>\n",
       "      <td>-0.015063</td>\n",
       "      <td>-0.072422</td>\n",
       "      <td>-0.970934</td>\n",
       "      <td>-0.035314</td>\n",
       "      <td>-0.007911</td>\n",
       "      <td>-0.048098</td>\n",
       "      <td>-0.021054</td>\n",
       "      <td>0.003524</td>\n",
       "      <td>-0.010575</td>\n",
       "      <td>0.009373</td>\n",
       "    </tr>\n",
       "    <tr>\n",
       "      <th>fuel_Electric</th>\n",
       "      <td>-0.005095</td>\n",
       "      <td>-0.001372</td>\n",
       "      <td>0.025540</td>\n",
       "      <td>-0.015063</td>\n",
       "      <td>1.000000</td>\n",
       "      <td>-0.001108</td>\n",
       "      <td>-0.014856</td>\n",
       "      <td>-0.026118</td>\n",
       "      <td>-0.002355</td>\n",
       "      <td>-0.044746</td>\n",
       "      <td>-0.002094</td>\n",
       "      <td>0.025960</td>\n",
       "      <td>-0.000952</td>\n",
       "      <td>-0.004166</td>\n",
       "    </tr>\n",
       "    <tr>\n",
       "      <th>fuel_LPG</th>\n",
       "      <td>-0.042434</td>\n",
       "      <td>0.036652</td>\n",
       "      <td>0.051266</td>\n",
       "      <td>-0.072422</td>\n",
       "      <td>-0.001108</td>\n",
       "      <td>1.000000</td>\n",
       "      <td>-0.071427</td>\n",
       "      <td>0.035122</td>\n",
       "      <td>-0.011324</td>\n",
       "      <td>0.024764</td>\n",
       "      <td>0.013384</td>\n",
       "      <td>0.030141</td>\n",
       "      <td>-0.004577</td>\n",
       "      <td>0.004836</td>\n",
       "    </tr>\n",
       "    <tr>\n",
       "      <th>fuel_Petrol</th>\n",
       "      <td>-0.269453</td>\n",
       "      <td>-0.291139</td>\n",
       "      <td>0.114908</td>\n",
       "      <td>-0.970934</td>\n",
       "      <td>-0.014856</td>\n",
       "      <td>-0.071427</td>\n",
       "      <td>1.000000</td>\n",
       "      <td>0.029845</td>\n",
       "      <td>0.012489</td>\n",
       "      <td>0.039614</td>\n",
       "      <td>0.011502</td>\n",
       "      <td>-0.012717</td>\n",
       "      <td>0.012427</td>\n",
       "      <td>-0.008502</td>\n",
       "    </tr>\n",
       "    <tr>\n",
       "      <th>seller_type_Individual</th>\n",
       "      <td>-0.236798</td>\n",
       "      <td>0.182663</td>\n",
       "      <td>0.173703</td>\n",
       "      <td>-0.035314</td>\n",
       "      <td>-0.026118</td>\n",
       "      <td>0.035122</td>\n",
       "      <td>0.029845</td>\n",
       "      <td>1.000000</td>\n",
       "      <td>-0.266904</td>\n",
       "      <td>0.214163</td>\n",
       "      <td>0.072322</td>\n",
       "      <td>0.186573</td>\n",
       "      <td>-0.107886</td>\n",
       "      <td>0.140823</td>\n",
       "    </tr>\n",
       "    <tr>\n",
       "      <th>seller_type_Trustmark Dealer</th>\n",
       "      <td>0.110176</td>\n",
       "      <td>-0.089858</td>\n",
       "      <td>-0.100225</td>\n",
       "      <td>-0.007911</td>\n",
       "      <td>-0.002355</td>\n",
       "      <td>-0.011324</td>\n",
       "      <td>0.012489</td>\n",
       "      <td>-0.266904</td>\n",
       "      <td>1.000000</td>\n",
       "      <td>-0.042346</td>\n",
       "      <td>-0.021395</td>\n",
       "      <td>-0.076764</td>\n",
       "      <td>-0.009729</td>\n",
       "      <td>-0.042578</td>\n",
       "    </tr>\n",
       "    <tr>\n",
       "      <th>transmission_Manual</th>\n",
       "      <td>-0.530205</td>\n",
       "      <td>0.120226</td>\n",
       "      <td>0.143800</td>\n",
       "      <td>-0.048098</td>\n",
       "      <td>-0.044746</td>\n",
       "      <td>0.024764</td>\n",
       "      <td>0.039614</td>\n",
       "      <td>0.214163</td>\n",
       "      <td>-0.042346</td>\n",
       "      <td>1.000000</td>\n",
       "      <td>0.035597</td>\n",
       "      <td>0.068068</td>\n",
       "      <td>0.009152</td>\n",
       "      <td>0.030802</td>\n",
       "    </tr>\n",
       "    <tr>\n",
       "      <th>owner_Fourth &amp; Above Owner</th>\n",
       "      <td>-0.078725</td>\n",
       "      <td>0.097349</td>\n",
       "      <td>0.186361</td>\n",
       "      <td>-0.021054</td>\n",
       "      <td>-0.002094</td>\n",
       "      <td>0.013384</td>\n",
       "      <td>0.011502</td>\n",
       "      <td>0.072322</td>\n",
       "      <td>-0.021395</td>\n",
       "      <td>0.035597</td>\n",
       "      <td>1.000000</td>\n",
       "      <td>-0.080648</td>\n",
       "      <td>-0.008648</td>\n",
       "      <td>-0.037849</td>\n",
       "    </tr>\n",
       "    <tr>\n",
       "      <th>owner_Second Owner</th>\n",
       "      <td>-0.161986</td>\n",
       "      <td>0.195203</td>\n",
       "      <td>0.292349</td>\n",
       "      <td>0.003524</td>\n",
       "      <td>0.025960</td>\n",
       "      <td>0.030141</td>\n",
       "      <td>-0.012717</td>\n",
       "      <td>0.186573</td>\n",
       "      <td>-0.076764</td>\n",
       "      <td>0.068068</td>\n",
       "      <td>-0.080648</td>\n",
       "      <td>1.000000</td>\n",
       "      <td>-0.036672</td>\n",
       "      <td>-0.160498</td>\n",
       "    </tr>\n",
       "    <tr>\n",
       "      <th>owner_Test Drive Car</th>\n",
       "      <td>0.048799</td>\n",
       "      <td>-0.083445</td>\n",
       "      <td>-0.095795</td>\n",
       "      <td>-0.010575</td>\n",
       "      <td>-0.000952</td>\n",
       "      <td>-0.004577</td>\n",
       "      <td>0.012427</td>\n",
       "      <td>-0.107886</td>\n",
       "      <td>-0.009729</td>\n",
       "      <td>0.009152</td>\n",
       "      <td>-0.008648</td>\n",
       "      <td>-0.036672</td>\n",
       "      <td>1.000000</td>\n",
       "      <td>-0.017210</td>\n",
       "    </tr>\n",
       "    <tr>\n",
       "      <th>owner_Third Owner</th>\n",
       "      <td>-0.111326</td>\n",
       "      <td>0.194713</td>\n",
       "      <td>0.244308</td>\n",
       "      <td>0.009373</td>\n",
       "      <td>-0.004166</td>\n",
       "      <td>0.004836</td>\n",
       "      <td>-0.008502</td>\n",
       "      <td>0.140823</td>\n",
       "      <td>-0.042578</td>\n",
       "      <td>0.030802</td>\n",
       "      <td>-0.037849</td>\n",
       "      <td>-0.160498</td>\n",
       "      <td>-0.017210</td>\n",
       "      <td>1.000000</td>\n",
       "    </tr>\n",
       "  </tbody>\n",
       "</table>\n",
       "</div>"
      ],
      "text/plain": [
       "                              selling_price  km_driven  no_of_years  \\\n",
       "selling_price                      1.000000  -0.192289    -0.413922   \n",
       "km_driven                         -0.192289   1.000000     0.419688   \n",
       "no_of_years                       -0.413922   0.419688     1.000000   \n",
       "fuel_Diesel                        0.282947   0.285396    -0.121424   \n",
       "fuel_Electric                     -0.005095  -0.001372     0.025540   \n",
       "fuel_LPG                          -0.042434   0.036652     0.051266   \n",
       "fuel_Petrol                       -0.269453  -0.291139     0.114908   \n",
       "seller_type_Individual            -0.236798   0.182663     0.173703   \n",
       "seller_type_Trustmark Dealer       0.110176  -0.089858    -0.100225   \n",
       "transmission_Manual               -0.530205   0.120226     0.143800   \n",
       "owner_Fourth & Above Owner        -0.078725   0.097349     0.186361   \n",
       "owner_Second Owner                -0.161986   0.195203     0.292349   \n",
       "owner_Test Drive Car               0.048799  -0.083445    -0.095795   \n",
       "owner_Third Owner                 -0.111326   0.194713     0.244308   \n",
       "\n",
       "                              fuel_Diesel  fuel_Electric  fuel_LPG  \\\n",
       "selling_price                    0.282947      -0.005095 -0.042434   \n",
       "km_driven                        0.285396      -0.001372  0.036652   \n",
       "no_of_years                     -0.121424       0.025540  0.051266   \n",
       "fuel_Diesel                      1.000000      -0.015063 -0.072422   \n",
       "fuel_Electric                   -0.015063       1.000000 -0.001108   \n",
       "fuel_LPG                        -0.072422      -0.001108  1.000000   \n",
       "fuel_Petrol                     -0.970934      -0.014856 -0.071427   \n",
       "seller_type_Individual          -0.035314      -0.026118  0.035122   \n",
       "seller_type_Trustmark Dealer    -0.007911      -0.002355 -0.011324   \n",
       "transmission_Manual             -0.048098      -0.044746  0.024764   \n",
       "owner_Fourth & Above Owner      -0.021054      -0.002094  0.013384   \n",
       "owner_Second Owner               0.003524       0.025960  0.030141   \n",
       "owner_Test Drive Car            -0.010575      -0.000952 -0.004577   \n",
       "owner_Third Owner                0.009373      -0.004166  0.004836   \n",
       "\n",
       "                              fuel_Petrol  seller_type_Individual  \\\n",
       "selling_price                   -0.269453               -0.236798   \n",
       "km_driven                       -0.291139                0.182663   \n",
       "no_of_years                      0.114908                0.173703   \n",
       "fuel_Diesel                     -0.970934               -0.035314   \n",
       "fuel_Electric                   -0.014856               -0.026118   \n",
       "fuel_LPG                        -0.071427                0.035122   \n",
       "fuel_Petrol                      1.000000                0.029845   \n",
       "seller_type_Individual           0.029845                1.000000   \n",
       "seller_type_Trustmark Dealer     0.012489               -0.266904   \n",
       "transmission_Manual              0.039614                0.214163   \n",
       "owner_Fourth & Above Owner       0.011502                0.072322   \n",
       "owner_Second Owner              -0.012717                0.186573   \n",
       "owner_Test Drive Car             0.012427               -0.107886   \n",
       "owner_Third Owner               -0.008502                0.140823   \n",
       "\n",
       "                              seller_type_Trustmark Dealer  \\\n",
       "selling_price                                     0.110176   \n",
       "km_driven                                        -0.089858   \n",
       "no_of_years                                      -0.100225   \n",
       "fuel_Diesel                                      -0.007911   \n",
       "fuel_Electric                                    -0.002355   \n",
       "fuel_LPG                                         -0.011324   \n",
       "fuel_Petrol                                       0.012489   \n",
       "seller_type_Individual                           -0.266904   \n",
       "seller_type_Trustmark Dealer                      1.000000   \n",
       "transmission_Manual                              -0.042346   \n",
       "owner_Fourth & Above Owner                       -0.021395   \n",
       "owner_Second Owner                               -0.076764   \n",
       "owner_Test Drive Car                             -0.009729   \n",
       "owner_Third Owner                                -0.042578   \n",
       "\n",
       "                              transmission_Manual  owner_Fourth & Above Owner  \\\n",
       "selling_price                           -0.530205                   -0.078725   \n",
       "km_driven                                0.120226                    0.097349   \n",
       "no_of_years                              0.143800                    0.186361   \n",
       "fuel_Diesel                             -0.048098                   -0.021054   \n",
       "fuel_Electric                           -0.044746                   -0.002094   \n",
       "fuel_LPG                                 0.024764                    0.013384   \n",
       "fuel_Petrol                              0.039614                    0.011502   \n",
       "seller_type_Individual                   0.214163                    0.072322   \n",
       "seller_type_Trustmark Dealer            -0.042346                   -0.021395   \n",
       "transmission_Manual                      1.000000                    0.035597   \n",
       "owner_Fourth & Above Owner               0.035597                    1.000000   \n",
       "owner_Second Owner                       0.068068                   -0.080648   \n",
       "owner_Test Drive Car                     0.009152                   -0.008648   \n",
       "owner_Third Owner                        0.030802                   -0.037849   \n",
       "\n",
       "                              owner_Second Owner  owner_Test Drive Car  \\\n",
       "selling_price                          -0.161986              0.048799   \n",
       "km_driven                               0.195203             -0.083445   \n",
       "no_of_years                             0.292349             -0.095795   \n",
       "fuel_Diesel                             0.003524             -0.010575   \n",
       "fuel_Electric                           0.025960             -0.000952   \n",
       "fuel_LPG                                0.030141             -0.004577   \n",
       "fuel_Petrol                            -0.012717              0.012427   \n",
       "seller_type_Individual                  0.186573             -0.107886   \n",
       "seller_type_Trustmark Dealer           -0.076764             -0.009729   \n",
       "transmission_Manual                     0.068068              0.009152   \n",
       "owner_Fourth & Above Owner             -0.080648             -0.008648   \n",
       "owner_Second Owner                      1.000000             -0.036672   \n",
       "owner_Test Drive Car                   -0.036672              1.000000   \n",
       "owner_Third Owner                      -0.160498             -0.017210   \n",
       "\n",
       "                              owner_Third Owner  \n",
       "selling_price                         -0.111326  \n",
       "km_driven                              0.194713  \n",
       "no_of_years                            0.244308  \n",
       "fuel_Diesel                            0.009373  \n",
       "fuel_Electric                         -0.004166  \n",
       "fuel_LPG                               0.004836  \n",
       "fuel_Petrol                           -0.008502  \n",
       "seller_type_Individual                 0.140823  \n",
       "seller_type_Trustmark Dealer          -0.042578  \n",
       "transmission_Manual                    0.030802  \n",
       "owner_Fourth & Above Owner            -0.037849  \n",
       "owner_Second Owner                    -0.160498  \n",
       "owner_Test Drive Car                  -0.017210  \n",
       "owner_Third Owner                      1.000000  "
      ]
     },
     "execution_count": 32,
     "metadata": {},
     "output_type": "execute_result"
    }
   ],
   "source": [
    "final_dataset.corr()"
   ]
  },
  {
   "cell_type": "code",
   "execution_count": 38,
   "metadata": {
    "scrolled": true
   },
   "outputs": [],
   "source": [
    "import seaborn as sns"
   ]
  },
  {
   "cell_type": "code",
   "execution_count": 39,
   "metadata": {},
   "outputs": [],
   "source": [
    "import matplotlib.pyplot as plt"
   ]
  },
  {
   "cell_type": "code",
   "execution_count": 44,
   "metadata": {},
   "outputs": [
    {
     "data": {
      "image/png": "[encoded data removed]",
      "text/plain": [
       "<Figure size 1440x1440 with 2 Axes>"
      ]
     },
     "metadata": {
      "needs_background": "light"
     },
     "output_type": "display_data"
    }
   ],
   "source": [
    "#plot heat map g=sns.heatmap(final_dataset[top_corr_feat\n",
    "corrmat=final_dataset.corr()\n",
    "top_corr_features=corrmat.index \n",
    "plt.figure(figsize=(20,20))\n",
    "g=sns.heatmap(final_dataset[top_corr_features].corr(),annot=True,cmap=\"RdYlGn\")"
   ]
  },
  {
   "cell_type": "code",
   "execution_count": 58,
   "metadata": {},
   "outputs": [],
   "source": [
    "X=final_dataset.iloc[:,1:]\n",
    "y=final_dataset.iloc[:,0]"
   ]
  },
  {
   "cell_type": "code",
   "execution_count": 59,
   "metadata": {},
   "outputs": [
    {
     "data": {
      "text/html": [
       "<div>\n",
       "<style scoped>\n",
       "    .dataframe tbody tr th:only-of-type {\n",
       "        vertical-align: middle;\n",
       "    }\n",
       "\n",
       "    .dataframe tbody tr th {\n",
       "        vertical-align: top;\n",
       "    }\n",
       "\n",
       "    .dataframe thead th {\n",
       "        text-align: right;\n",
       "    }\n",
       "</style>\n",
       "<table border=\"1\" class=\"dataframe\">\n",
       "  <thead>\n",
       "    <tr style=\"text-align: right;\">\n",
       "      <th></th>\n",
       "      <th>km_driven</th>\n",
       "      <th>no_of_years</th>\n",
       "      <th>fuel_Diesel</th>\n",
       "      <th>fuel_Electric</th>\n",
       "      <th>fuel_LPG</th>\n",
       "      <th>fuel_Petrol</th>\n",
       "      <th>seller_type_Individual</th>\n",
       "      <th>seller_type_Trustmark Dealer</th>\n",
       "      <th>transmission_Manual</th>\n",
       "      <th>owner_Fourth &amp; Above Owner</th>\n",
       "      <th>owner_Second Owner</th>\n",
       "      <th>owner_Test Drive Car</th>\n",
       "      <th>owner_Third Owner</th>\n",
       "    </tr>\n",
       "  </thead>\n",
       "  <tbody>\n",
       "    <tr>\n",
       "      <th>0</th>\n",
       "      <td>70000</td>\n",
       "      <td>13</td>\n",
       "      <td>0</td>\n",
       "      <td>0</td>\n",
       "      <td>0</td>\n",
       "      <td>1</td>\n",
       "      <td>1</td>\n",
       "      <td>0</td>\n",
       "      <td>1</td>\n",
       "      <td>0</td>\n",
       "      <td>0</td>\n",
       "      <td>0</td>\n",
       "      <td>0</td>\n",
       "    </tr>\n",
       "    <tr>\n",
       "      <th>1</th>\n",
       "      <td>50000</td>\n",
       "      <td>13</td>\n",
       "      <td>0</td>\n",
       "      <td>0</td>\n",
       "      <td>0</td>\n",
       "      <td>1</td>\n",
       "      <td>1</td>\n",
       "      <td>0</td>\n",
       "      <td>1</td>\n",
       "      <td>0</td>\n",
       "      <td>0</td>\n",
       "      <td>0</td>\n",
       "      <td>0</td>\n",
       "    </tr>\n",
       "    <tr>\n",
       "      <th>2</th>\n",
       "      <td>100000</td>\n",
       "      <td>8</td>\n",
       "      <td>1</td>\n",
       "      <td>0</td>\n",
       "      <td>0</td>\n",
       "      <td>0</td>\n",
       "      <td>1</td>\n",
       "      <td>0</td>\n",
       "      <td>1</td>\n",
       "      <td>0</td>\n",
       "      <td>0</td>\n",
       "      <td>0</td>\n",
       "      <td>0</td>\n",
       "    </tr>\n",
       "    <tr>\n",
       "      <th>3</th>\n",
       "      <td>46000</td>\n",
       "      <td>3</td>\n",
       "      <td>0</td>\n",
       "      <td>0</td>\n",
       "      <td>0</td>\n",
       "      <td>1</td>\n",
       "      <td>1</td>\n",
       "      <td>0</td>\n",
       "      <td>1</td>\n",
       "      <td>0</td>\n",
       "      <td>0</td>\n",
       "      <td>0</td>\n",
       "      <td>0</td>\n",
       "    </tr>\n",
       "    <tr>\n",
       "      <th>4</th>\n",
       "      <td>141000</td>\n",
       "      <td>6</td>\n",
       "      <td>1</td>\n",
       "      <td>0</td>\n",
       "      <td>0</td>\n",
       "      <td>0</td>\n",
       "      <td>1</td>\n",
       "      <td>0</td>\n",
       "      <td>1</td>\n",
       "      <td>0</td>\n",
       "      <td>1</td>\n",
       "      <td>0</td>\n",
       "      <td>0</td>\n",
       "    </tr>\n",
       "  </tbody>\n",
       "</table>\n",
       "</div>"
      ],
      "text/plain": [
       "   km_driven  no_of_years  fuel_Diesel  fuel_Electric  fuel_LPG  fuel_Petrol  \\\n",
       "0      70000           13            0              0         0            1   \n",
       "1      50000           13            0              0         0            1   \n",
       "2     100000            8            1              0         0            0   \n",
       "3      46000            3            0              0         0            1   \n",
       "4     141000            6            1              0         0            0   \n",
       "\n",
       "   seller_type_Individual  seller_type_Trustmark Dealer  transmission_Manual  \\\n",
       "0                       1                             0                    1   \n",
       "1                       1                             0                    1   \n",
       "2                       1                             0                    1   \n",
       "3                       1                             0                    1   \n",
       "4                       1                             0                    1   \n",
       "\n",
       "   owner_Fourth & Above Owner  owner_Second Owner  owner_Test Drive Car  \\\n",
       "0                           0                   0                     0   \n",
       "1                           0                   0                     0   \n",
       "2                           0                   0                     0   \n",
       "3                           0                   0                     0   \n",
       "4                           0                   1                     0   \n",
       "\n",
       "   owner_Third Owner  \n",
       "0                  0  \n",
       "1                  0  \n",
       "2                  0  \n",
       "3                  0  \n",
       "4                  0  "
      ]
     },
     "execution_count": 59,
     "metadata": {},
     "output_type": "execute_result"
    }
   ],
   "source": [
    "X.head()"
   ]
  },
  {
   "cell_type": "code",
   "execution_count": 60,
   "metadata": {},
   "outputs": [
    {
     "data": {
      "text/plain": [
       "0     60000\n",
       "1    135000\n",
       "2    600000\n",
       "3    250000\n",
       "4    450000\n",
       "Name: selling_price, dtype: int64"
      ]
     },
     "execution_count": 60,
     "metadata": {},
     "output_type": "execute_result"
    }
   ],
   "source": [
    "y.head()"
   ]
  },
  {
   "cell_type": "code",
   "execution_count": 61,
   "metadata": {},
   "outputs": [],
   "source": [
    "#pip install scikit-learn"
   ]
  },
  {
   "cell_type": "code",
   "execution_count": 65,
   "metadata": {},
   "outputs": [],
   "source": [
    "### Feature Importance \n",
    "from sklearn.ensemble import ExtraTreesRegressor\n",
    "model=ExtraTreesRegressor() \n",
    "\n"
   ]
  },
  {
   "cell_type": "code",
   "execution_count": 80,
   "metadata": {},
   "outputs": [
    {
     "data": {
      "text/plain": [
       "{'bootstrap': False,\n",
       " 'ccp_alpha': 0.0,\n",
       " 'criterion': 'mse',\n",
       " 'max_depth': None,\n",
       " 'max_features': 'auto',\n",
       " 'max_leaf_nodes': None,\n",
       " 'max_samples': None,\n",
       " 'min_impurity_decrease': 0.0,\n",
       " 'min_impurity_split': None,\n",
       " 'min_samples_leaf': 1,\n",
       " 'min_samples_split': 2,\n",
       " 'min_weight_fraction_leaf': 0.0,\n",
       " 'n_estimators': 100,\n",
       " 'n_jobs': None,\n",
       " 'oob_score': False,\n",
       " 'random_state': None,\n",
       " 'verbose': 0,\n",
       " 'warm_start': False}"
      ]
     },
     "execution_count": 80,
     "metadata": {},
     "output_type": "execute_result"
    }
   ],
   "source": [
    "model.get_params() "
   ]
  },
  {
   "cell_type": "code",
   "execution_count": 66,
   "metadata": {},
   "outputs": [
    {
     "data": {
      "text/plain": [
       "ExtraTreesRegressor()"
      ]
     },
     "execution_count": 66,
     "metadata": {},
     "output_type": "execute_result"
    }
   ],
   "source": [
    "model.fit(X,y)"
   ]
  },
  {
   "cell_type": "code",
   "execution_count": 72,
   "metadata": {},
   "outputs": [
    {
     "name": "stdout",
     "output_type": "stream",
     "text": [
      "[2.48872524e-01 2.44510360e-01 1.29563078e-01 3.53238929e-05\n",
      " 2.48361445e-05 2.43374470e-04 4.85025602e-02 8.50049188e-03\n",
      " 2.92835717e-01 7.92714309e-04 2.09110837e-02 5.77623196e-04\n",
      " 4.63031303e-03]\n"
     ]
    }
   ],
   "source": [
    "print(model.feature_importances_)"
   ]
  },
  {
   "cell_type": "code",
   "execution_count": 75,
   "metadata": {},
   "outputs": [
    {
     "data": {
      "image/png": "[encoded data removed]",
      "text/plain": [
       "<Figure size 432x288 with 1 Axes>"
      ]
     },
     "metadata": {
      "needs_background": "light"
     },
     "output_type": "display_data"
    }
   ],
   "source": [
    "#plot graph of feature importances for better visualization \n",
    "feat_importances = pd.Series(model.feature_importances_, index=X.columns) \n",
    "feat_importances.nlargest(5).plot(kind='barh')\n",
    "plt.show()"
   ]
  },
  {
   "cell_type": "code",
   "execution_count": 81,
   "metadata": {},
   "outputs": [],
   "source": [
    "from sklearn.model_selection import train_test_split"
   ]
  },
  {
   "cell_type": "code",
   "execution_count": 82,
   "metadata": {},
   "outputs": [],
   "source": [
    "X_train,X_test,y_train,y_test=train_test_split(X,y,test_size=0.2)"
   ]
  },
  {
   "cell_type": "code",
   "execution_count": 84,
   "metadata": {},
   "outputs": [
    {
     "data": {
      "text/plain": [
       "(868, 13)"
      ]
     },
     "execution_count": 84,
     "metadata": {},
     "output_type": "execute_result"
    }
   ],
   "source": [
    "X_test.shape"
   ]
  },
  {
   "cell_type": "code",
   "execution_count": 85,
   "metadata": {},
   "outputs": [],
   "source": [
    "from sklearn.ensemble import RandomForestRegressor"
   ]
  },
  {
   "cell_type": "code",
   "execution_count": 88,
   "metadata": {},
   "outputs": [],
   "source": [
    "rf_random=RandomForestRegressor()"
   ]
  },
  {
   "cell_type": "code",
   "execution_count": 89,
   "metadata": {},
   "outputs": [],
   "source": [
    "import numpy as np"
   ]
  },
  {
   "cell_type": "code",
   "execution_count": 129,
   "metadata": {},
   "outputs": [],
   "source": [
    "# Hypertuning Random Forest\n",
    "n_estimators=[int(x) for x in np.linspace(start=100,stop=1200,num=12)]\n",
    "max_features=['auto','sqrt']\n",
    "max_depth=[int(x) for x in np.linspace(5,30,num=6)]\n",
    "min_samples_split=[2,5]\n",
    "min_samples_leaf=[1,2,5,10]\n"
   ]
  },
  {
   "cell_type": "code",
   "execution_count": 130,
   "metadata": {},
   "outputs": [],
   "source": [
    "random_grid={'n_estimators':n_estimators,'max_features':max_features,'max_depth':max_depth,\n",
    "             'min_samples_split':min_samples_split,'min_samples_leaf':min_samples_leaf}"
   ]
  },
  {
   "cell_type": "code",
   "execution_count": 131,
   "metadata": {},
   "outputs": [
    {
     "name": "stdout",
     "output_type": "stream",
     "text": [
      "{'n_estimators': [100, 200, 300, 400, 500, 600, 700, 800, 900, 1000, 1100, 1200], 'max_features': ['auto', 'sqrt'], 'max_depth': [5, 10, 15, 20, 25, 30], 'min_samples_split': [2, 5], 'min_samples_leaf': [1, 2, 5, 10]}\n"
     ]
    }
   ],
   "source": [
    "print(random_grid)"
   ]
  },
  {
   "cell_type": "code",
   "execution_count": 132,
   "metadata": {},
   "outputs": [],
   "source": [
    "from sklearn.model_selection import RandomizedSearchCV"
   ]
  },
  {
   "cell_type": "code",
   "execution_count": 133,
   "metadata": {},
   "outputs": [],
   "source": [
    "rf=RandomForestRegressor()"
   ]
  },
  {
   "cell_type": "code",
   "execution_count": 134,
   "metadata": {},
   "outputs": [],
   "source": [
    "rf_random=RandomizedSearchCV(estimator=rf,param_distributions=random_grid,\n",
    "                             scoring='neg_mean_squared_error',n_iter=10,cv=5,verbose=2,random_state=42,n_jobs=1)"
   ]
  },
  {
   "cell_type": "code",
   "execution_count": 135,
   "metadata": {},
   "outputs": [
    {
     "name": "stdout",
     "output_type": "stream",
     "text": [
      "Fitting 5 folds for each of 10 candidates, totalling 50 fits\n",
      "[CV] END max_depth=30, max_features=sqrt, min_samples_leaf=5, min_samples_split=5, n_estimators=1100; total time=   1.8s\n",
      "[CV] END max_depth=30, max_features=sqrt, min_samples_leaf=5, min_samples_split=5, n_estimators=1100; total time=   1.7s\n",
      "[CV] END max_depth=30, max_features=sqrt, min_samples_leaf=5, min_samples_split=5, n_estimators=1100; total time=   1.8s\n",
      "[CV] END max_depth=30, max_features=sqrt, min_samples_leaf=5, min_samples_split=5, n_estimators=1100; total time=   1.9s\n",
      "[CV] END max_depth=30, max_features=sqrt, min_samples_leaf=5, min_samples_split=5, n_estimators=1100; total time=   1.9s\n",
      "[CV] END max_depth=25, max_features=auto, min_samples_leaf=10, min_samples_split=5, n_estimators=900; total time=   2.3s\n",
      "[CV] END max_depth=25, max_features=auto, min_samples_leaf=10, min_samples_split=5, n_estimators=900; total time=   2.3s\n",
      "[CV] END max_depth=25, max_features=auto, min_samples_leaf=10, min_samples_split=5, n_estimators=900; total time=   2.2s\n",
      "[CV] END max_depth=25, max_features=auto, min_samples_leaf=10, min_samples_split=5, n_estimators=900; total time=   2.3s\n",
      "[CV] END max_depth=25, max_features=auto, min_samples_leaf=10, min_samples_split=5, n_estimators=900; total time=   2.3s\n",
      "[CV] END max_depth=30, max_features=sqrt, min_samples_leaf=10, min_samples_split=2, n_estimators=300; total time=   0.4s\n",
      "[CV] END max_depth=30, max_features=sqrt, min_samples_leaf=10, min_samples_split=2, n_estimators=300; total time=   0.5s\n",
      "[CV] END max_depth=30, max_features=sqrt, min_samples_leaf=10, min_samples_split=2, n_estimators=300; total time=   0.5s\n",
      "[CV] END max_depth=30, max_features=sqrt, min_samples_leaf=10, min_samples_split=2, n_estimators=300; total time=   0.4s\n",
      "[CV] END max_depth=30, max_features=sqrt, min_samples_leaf=10, min_samples_split=2, n_estimators=300; total time=   0.4s\n",
      "[CV] END max_depth=30, max_features=sqrt, min_samples_leaf=2, min_samples_split=5, n_estimators=400; total time=   0.7s\n",
      "[CV] END max_depth=30, max_features=sqrt, min_samples_leaf=2, min_samples_split=5, n_estimators=400; total time=   0.8s\n",
      "[CV] END max_depth=30, max_features=sqrt, min_samples_leaf=2, min_samples_split=5, n_estimators=400; total time=   0.8s\n",
      "[CV] END max_depth=30, max_features=sqrt, min_samples_leaf=2, min_samples_split=5, n_estimators=400; total time=   0.8s\n",
      "[CV] END max_depth=30, max_features=sqrt, min_samples_leaf=2, min_samples_split=5, n_estimators=400; total time=   0.7s\n",
      "[CV] END max_depth=30, max_features=auto, min_samples_leaf=10, min_samples_split=5, n_estimators=100; total time=   0.3s\n",
      "[CV] END max_depth=30, max_features=auto, min_samples_leaf=10, min_samples_split=5, n_estimators=100; total time=   0.3s\n",
      "[CV] END max_depth=30, max_features=auto, min_samples_leaf=10, min_samples_split=5, n_estimators=100; total time=   0.3s\n",
      "[CV] END max_depth=30, max_features=auto, min_samples_leaf=10, min_samples_split=5, n_estimators=100; total time=   0.3s\n",
      "[CV] END max_depth=30, max_features=auto, min_samples_leaf=10, min_samples_split=5, n_estimators=100; total time=   0.3s\n",
      "[CV] END max_depth=5, max_features=sqrt, min_samples_leaf=2, min_samples_split=2, n_estimators=200; total time=   0.3s\n",
      "[CV] END max_depth=5, max_features=sqrt, min_samples_leaf=2, min_samples_split=2, n_estimators=200; total time=   0.3s\n",
      "[CV] END max_depth=5, max_features=sqrt, min_samples_leaf=2, min_samples_split=2, n_estimators=200; total time=   0.3s\n",
      "[CV] END max_depth=5, max_features=sqrt, min_samples_leaf=2, min_samples_split=2, n_estimators=200; total time=   0.3s\n",
      "[CV] END max_depth=5, max_features=sqrt, min_samples_leaf=2, min_samples_split=2, n_estimators=200; total time=   0.3s\n",
      "[CV] END max_depth=15, max_features=auto, min_samples_leaf=10, min_samples_split=2, n_estimators=1100; total time=   3.0s\n",
      "[CV] END max_depth=15, max_features=auto, min_samples_leaf=10, min_samples_split=2, n_estimators=1100; total time=   2.7s\n",
      "[CV] END max_depth=15, max_features=auto, min_samples_leaf=10, min_samples_split=2, n_estimators=1100; total time=   2.7s\n",
      "[CV] END max_depth=15, max_features=auto, min_samples_leaf=10, min_samples_split=2, n_estimators=1100; total time=   2.7s\n",
      "[CV] END max_depth=15, max_features=auto, min_samples_leaf=10, min_samples_split=2, n_estimators=1100; total time=   2.9s\n",
      "[CV] END max_depth=10, max_features=sqrt, min_samples_leaf=2, min_samples_split=5, n_estimators=700; total time=   1.3s\n",
      "[CV] END max_depth=10, max_features=sqrt, min_samples_leaf=2, min_samples_split=5, n_estimators=700; total time=   1.2s\n",
      "[CV] END max_depth=10, max_features=sqrt, min_samples_leaf=2, min_samples_split=5, n_estimators=700; total time=   1.2s\n",
      "[CV] END max_depth=10, max_features=sqrt, min_samples_leaf=2, min_samples_split=5, n_estimators=700; total time=   1.2s\n",
      "[CV] END max_depth=10, max_features=sqrt, min_samples_leaf=2, min_samples_split=5, n_estimators=700; total time=   1.2s\n",
      "[CV] END max_depth=5, max_features=auto, min_samples_leaf=10, min_samples_split=5, n_estimators=400; total time=   0.8s\n",
      "[CV] END max_depth=5, max_features=auto, min_samples_leaf=10, min_samples_split=5, n_estimators=400; total time=   0.8s\n",
      "[CV] END max_depth=5, max_features=auto, min_samples_leaf=10, min_samples_split=5, n_estimators=400; total time=   0.8s\n",
      "[CV] END max_depth=5, max_features=auto, min_samples_leaf=10, min_samples_split=5, n_estimators=400; total time=   0.8s\n",
      "[CV] END max_depth=5, max_features=auto, min_samples_leaf=10, min_samples_split=5, n_estimators=400; total time=   0.8s\n",
      "[CV] END max_depth=30, max_features=sqrt, min_samples_leaf=5, min_samples_split=5, n_estimators=800; total time=   1.2s\n",
      "[CV] END max_depth=30, max_features=sqrt, min_samples_leaf=5, min_samples_split=5, n_estimators=800; total time=   1.2s\n",
      "[CV] END max_depth=30, max_features=sqrt, min_samples_leaf=5, min_samples_split=5, n_estimators=800; total time=   1.3s\n",
      "[CV] END max_depth=30, max_features=sqrt, min_samples_leaf=5, min_samples_split=5, n_estimators=800; total time=   1.3s\n",
      "[CV] END max_depth=30, max_features=sqrt, min_samples_leaf=5, min_samples_split=5, n_estimators=800; total time=   1.2s\n"
     ]
    },
    {
     "data": {
      "text/plain": [
       "RandomizedSearchCV(cv=5, estimator=RandomForestRegressor(), n_jobs=1,\n",
       "                   param_distributions={'max_depth': [5, 10, 15, 20, 25, 30],\n",
       "                                        'max_features': ['auto', 'sqrt'],\n",
       "                                        'min_samples_leaf': [1, 2, 5, 10],\n",
       "                                        'min_samples_split': [2, 5],\n",
       "                                        'n_estimators': [100, 200, 300, 400,\n",
       "                                                         500, 600, 700, 800,\n",
       "                                                         900, 1000, 1100,\n",
       "                                                         1200]},\n",
       "                   random_state=42, scoring='neg_mean_squared_error',\n",
       "                   verbose=2)"
      ]
     },
     "execution_count": 135,
     "metadata": {},
     "output_type": "execute_result"
    }
   ],
   "source": [
    "rf_random.fit(X_train,y_train)"
   ]
  },
  {
   "cell_type": "code",
   "execution_count": 139,
   "metadata": {},
   "outputs": [
    {
     "data": {
      "text/plain": [
       "RandomForestRegressor(max_depth=10, max_features='sqrt', min_samples_leaf=2,\n",
       "                      min_samples_split=5, n_estimators=700)"
      ]
     },
     "execution_count": 139,
     "metadata": {},
     "output_type": "execute_result"
    }
   ],
   "source": [
    "rf_random.best_estimator_"
   ]
  },
  {
   "cell_type": "code",
   "execution_count": 140,
   "metadata": {},
   "outputs": [],
   "source": [
    "predictions=rf_random.predict(X_test)"
   ]
  },
  {
   "cell_type": "code",
   "execution_count": 141,
   "metadata": {
    "scrolled": false
   },
   "outputs": [
    {
     "data": {
      "text/plain": [
       "array([ 311277.9757899 ,  338321.54102803,  394798.96717841,\n",
       "        536541.11956201,  417087.30969602,  446760.12079836,\n",
       "        431968.81618405,  395114.36560679,  877808.77038188,\n",
       "        227374.63797321,  107058.16648381,  103506.69250654,\n",
       "        781258.90775651,  443863.00079903,  262757.77021705,\n",
       "        332774.63676717,  469530.15017826,  129078.13130096,\n",
       "        793938.58140633, 1290654.89794967,  539675.90790395,\n",
       "        956361.09195005,  537125.66086142,  346132.04214892,\n",
       "        165092.77143311,  524383.63265317,  154168.38639175,\n",
       "        248792.2724506 ,  553304.21698009,  265090.23903246,\n",
       "        611012.98260349,  217664.39548273,  151621.93627385,\n",
       "       1007153.38973173, 1034351.9666804 ,  118067.03053363,\n",
       "        234115.57059147,  292386.44232807,  616530.04447462,\n",
       "        185504.47755921,  465906.53317542,  221574.0737893 ,\n",
       "        705152.98734617,  116006.10053532,  288629.51066143,\n",
       "        505819.73501114,  483787.57712666,  253653.32000851,\n",
       "        365766.13724779,  650742.95886029,  124760.66626571,\n",
       "        513398.27919402,  167633.71275962,  363865.66478589,\n",
       "        150056.88143263, 2636708.04855921,  604874.54644199,\n",
       "        618274.96158719,  121869.11716527,  364503.64792505,\n",
       "        661247.02049391,  392787.53756154,  161240.15431806,\n",
       "        484400.32306533,  289533.34312377,  163292.82628968,\n",
       "        518665.7244745 ,  455284.12596731,  110302.45122209,\n",
       "       3871452.39519314,  457798.32174976,  656171.9394019 ,\n",
       "        474455.99100471,  215010.15808535,  871078.7361266 ,\n",
       "        446317.31150098,  788965.78961684,  451821.38875383,\n",
       "        114534.11420503,  695700.57499643,  297435.31885879,\n",
       "        235729.01839172,  304408.24134109,  212757.14311793,\n",
       "        226569.23473735,  320440.50029354,  506068.72216892,\n",
       "        638290.31061149,  143098.63924891,  871078.7361266 ,\n",
       "        710834.36029565,  275787.55877257,  609604.86526241,\n",
       "        419078.11311612, 1513522.32202332,  374178.01805577,\n",
       "        288480.02765961,  254738.2979791 , 1848787.2892617 ,\n",
       "        642443.60449531,  710834.36029565,  462235.21181611,\n",
       "        204104.16034669,  534586.53036993,  355186.51493531,\n",
       "        507157.02873863,  519772.86032622,  157194.61468221,\n",
       "        468106.8639443 ,  425262.17470823, 1513522.32202332,\n",
       "        484400.32306533,  500045.84350208,  243232.56631507,\n",
       "        357142.33769114,  133576.05022351,  254710.56885666,\n",
       "        178468.47221245,  744254.11753852,  257120.84648218,\n",
       "        566253.52632388,  737097.23899138,  200913.37843651,\n",
       "        376460.18190436,  653586.96609075,  709380.5991874 ,\n",
       "        247437.92754216,  246314.1135688 ,  355186.51493531,\n",
       "       1013010.0712877 ,  366573.86809793,  340280.06979769,\n",
       "        248145.7634618 ,  508616.76553276,  906990.57717178,\n",
       "        152254.83309149,  366573.86809793,  357238.2492414 ,\n",
       "        184805.82041431,  513398.27919402, 3414978.76150429,\n",
       "        395114.36560679,  539675.90790395,  337212.92010778,\n",
       "        294781.37382581,  405829.86449991,  517717.11106822,\n",
       "        150056.88143263,  553304.21698009,  271098.44751279,\n",
       "        313921.32725144,  861620.30592278,  285654.66842748,\n",
       "        120932.70044868,  522281.46265704,  267152.0983479 ,\n",
       "        210676.11399886,  630069.19529065,  798883.17344064,\n",
       "        498051.23358357, 2427442.883673  ,  439518.28400914,\n",
       "        590802.14159878,  328442.61922186,  384785.85089934,\n",
       "        471099.39226876,  710834.36029565,  467694.73479404,\n",
       "        609604.86526241,  756155.64267314,  214589.41599067,\n",
       "        505648.42783094,  419568.26942288,  471650.41443929,\n",
       "        521724.60556309,  574861.94672703,  228566.85644728,\n",
       "        155878.72934079,  357100.20586123,  226343.03211059,\n",
       "        303401.52259212,  157194.61468221,  288480.02765961,\n",
       "        464019.75812386,  885575.51749816,  863630.4608129 ,\n",
       "        315278.78725273,  143854.13626982,  964985.11493861,\n",
       "        379913.31779598,  448595.81586078,  372686.32409831,\n",
       "        491765.45260898,  107453.96906206,  636781.18407361,\n",
       "        395906.68741969,  362247.75735216,  733286.93104527,\n",
       "        428259.71962242,  503249.55071334,  628425.59139404,\n",
       "        328270.97581475, 2411489.04945579,  448595.81586078,\n",
       "        773004.02985021,  794587.01399365,  435667.61967161,\n",
       "        282653.67637289, 1801857.85680633,  264650.03191025,\n",
       "        345810.22927366,  236247.72780418,  347963.10468902,\n",
       "        516976.27575527,  384785.85089934,  413287.9075334 ,\n",
       "        404671.21150028,  143215.1672384 ,  235663.85895507,\n",
       "        369532.23949685,  335525.09252114,  288480.02765961,\n",
       "        370062.35916082,  425939.92531774,  184224.87243272,\n",
       "        166885.14267986,  279854.88619585,  254710.56885666,\n",
       "       3871452.39519314,  342433.71914604,  385244.21456597,\n",
       "        119465.59631173,  437349.013706  ,  241556.57064893,\n",
       "        245352.48348458,  125215.40267596,  227402.27680247,\n",
       "        466159.71011478, 1112541.1067274 ,  516887.539678  ,\n",
       "        915981.18498612,  355186.51493531,  315674.00402614,\n",
       "        374654.75638361,  328207.99372654,  380024.57921255,\n",
       "        964985.11493861,  382591.48980552,  289533.34312377,\n",
       "        507157.02873863,  842360.73125278,  605536.90709892,\n",
       "        196347.06951872,  227978.26459191,  332791.84694696,\n",
       "        657691.89440406,  763735.81127289,  457469.67622878,\n",
       "        574861.94672703,  107250.75305548,  196009.28528755,\n",
       "        342671.37859463,  280861.97207638,  562539.24077553,\n",
       "        527580.116169  ,  419568.26942288,  653586.96609075,\n",
       "        133401.7633568 ,  115829.63201193,  203711.64019787,\n",
       "        762364.57134517,  370525.7692621 ,  116352.39785503,\n",
       "        911297.24333226,  271167.27102945,  649411.97469274,\n",
       "        213475.64505821,  140953.3985433 ,  115635.7338412 ,\n",
       "        460439.20525555,  901877.02678486,  168106.60737298,\n",
       "        301694.66949085,  419795.00544398,  901877.02678486,\n",
       "       3871452.39519314,  306261.52342744,  417827.33622025,\n",
       "        573460.04651714,  107927.3775811 ,  912086.06513171,\n",
       "        371999.64972456,  150056.88143263,  468526.12701139,\n",
       "        494181.28176147,  431968.81618405,  313921.32725144,\n",
       "        132038.19399665,  211407.72026223,  859822.84773183,\n",
       "        639672.5408912 ,  582878.82250506,  605783.88057528,\n",
       "        575918.80280816,  338240.38559435,  219743.26932761,\n",
       "        298706.32220142,  339231.70182782,  250768.53180806,\n",
       "        389853.12182784,  615375.56849757,  411588.00296297,\n",
       "        486566.46810803, 2411489.04945579,  345616.72573729,\n",
       "        267152.0983479 ,  226489.01555811,  225595.7697208 ,\n",
       "        249652.57447203,  135029.03803857,  463631.82801939,\n",
       "        930395.85829213,  829221.20524985,  432145.31786976,\n",
       "        116006.10053532,  370525.7692621 ,  389974.48659726,\n",
       "       3871452.39519314,  216388.03987832,  763735.81127289,\n",
       "        265200.15165106,  184805.82041431,  664185.86960654,\n",
       "        265178.70428266,  357100.20586123,  361980.30312539,\n",
       "       1483987.77231503,  348000.13892597,  418960.82513332,\n",
       "        236555.83436726,  553304.21698009,  320549.58372911,\n",
       "        370073.82676439,  516887.539678  ,  277960.73437111,\n",
       "        225363.59307995,  870486.83761649,  508615.73509754,\n",
       "        324707.78687661,  596150.38683429,  468898.06085753,\n",
       "        367295.42031335,  718007.23463298,  600274.98688369,\n",
       "        391962.94730607,  427870.58107125,  296797.10697348,\n",
       "        101305.39380657,  791246.59370402,  507993.00166782,\n",
       "        143098.63924891,  271172.70522064,  391962.94730607,\n",
       "        681727.45681768,  150056.88143263,  152254.83309149,\n",
       "        975281.18455965,  395650.10132457,  135020.10751675,\n",
       "        197940.34880358,  220987.68391585,  530124.86051163,\n",
       "        444196.22690175,  351300.21625318,  313946.57313773,\n",
       "       1218192.20726484,  119937.91234404,  222361.56815478,\n",
       "        914329.03142813,  385113.31951385,  172634.8346011 ,\n",
       "        276238.94697049,  357100.20586123,  254710.56885666,\n",
       "        357976.19653541, 3414978.76150429,  237830.7080519 ,\n",
       "        562201.93089455, 1534932.25990872,  536238.42782816,\n",
       "        688188.10336259,  265948.35123934,  185459.60455945,\n",
       "        415203.39799246,  580103.29154905,  304475.10856168,\n",
       "        290534.05628194,  216980.3587629 ,  107095.40604598,\n",
       "        783211.9029679 ,  742224.94124812,  271098.44751279,\n",
       "        657691.89440406,  268505.41853738,  203492.37908057,\n",
       "        456993.82010042,  609859.2527882 ,  323895.05885664,\n",
       "       1732201.88941442,  646911.72028841,  359279.03073067,\n",
       "        176220.42072834,  101926.57265671,  788965.78961684,\n",
       "        235842.2512144 ,  957859.86529002,  726659.80316236,\n",
       "        686889.90049145,  425651.22142711,  437349.013706  ,\n",
       "        529989.59500241,  519921.85623991, 1539567.69694473,\n",
       "        183451.85828863,  259033.98762022, 1400961.60998746,\n",
       "        415203.39799246,  211407.72026223,  574861.94672703,\n",
       "        922085.07242554,  468898.06085753,  327259.17310191,\n",
       "        356665.11687443,  494600.29724648,  580570.53814222,\n",
       "        178967.50434033,  266366.62030521,  658522.29604106,\n",
       "        370073.82676439,  695700.57499643,  245470.95996491,\n",
       "        352676.64589592,  184794.5131408 ,  280513.57438629,\n",
       "        639520.85618657,  150294.54370887,  741738.2503935 ,\n",
       "        203711.64019787,  150294.54370887,  348718.030112  ,\n",
       "        351300.21625318,  511155.68247935,  226343.03211059,\n",
       "        740926.24629402,  695700.57499643, 1337066.81751164,\n",
       "        198506.6261118 , 1093574.02138735,  168674.34103301,\n",
       "        279854.88619585,  292398.69033691,  515778.50204897,\n",
       "       1720218.89816075, 1661754.23373162,  551108.47899782,\n",
       "        425651.22142711,  384310.43831305,  618274.96158719,\n",
       "        312342.31785727,  141302.95376691,  776328.95232974,\n",
       "        404961.60872535,  312097.2686738 ,  248177.17354954,\n",
       "        366305.12605125,  163891.65029612,  203711.64019787,\n",
       "        398343.77175337,  629275.90834854,  117253.45833641,\n",
       "        498510.43982585,  425651.22142711,  122406.12363961,\n",
       "        471329.37691714,  265908.68356741, 2027798.16184808,\n",
       "        864379.19085845,  514528.70048492,  280378.58965831,\n",
       "        167457.08429214,  943925.63460473,  228171.24474322,\n",
       "        344678.02335891,  503432.02080769,  190591.56773005,\n",
       "        111873.31557248,  234115.57059147,  369532.23949685,\n",
       "        321102.2575258 ,  218718.84077018,  366573.86809793,\n",
       "        638891.05893165,  940998.57943243,  441209.24282687,\n",
       "        539675.90790395,  331180.6035398 ,  150056.88143263,\n",
       "        409656.45965996,  940998.57943243,  133194.79723029,\n",
       "        389673.57121868,  415203.39799246,  443863.00079903,\n",
       "        361987.12846356,  683049.75113464,  258663.36329985,\n",
       "        273413.89886797,  255575.36800857,  124075.05049325,\n",
       "        468526.12701139,  417590.44549579,  235663.85895507,\n",
       "        311914.76580558, 1827777.15074443,  494600.29724648,\n",
       "        437217.60359938,  924209.80284271,  539675.90790395,\n",
       "        448674.15303064,  511886.2371197 ,  574861.94672703,\n",
       "        514528.70048492,  520685.64906141,  128341.6213928 ,\n",
       "        806618.14929141,  236555.83436726,  528403.53703168,\n",
       "        345910.5114469 ,  590802.14159878,  297435.31885879,\n",
       "        518665.7244745 ,  298122.56910135,  309662.94362123,\n",
       "        315332.29674602,  261269.32643824, 1262142.87170187,\n",
       "        185771.49902266,  142971.30742367,  342433.71914604,\n",
       "        829204.48898788,  673917.46165746,  340280.06979769,\n",
       "        329574.82676658,  342433.71914604,  768926.21245479,\n",
       "        781723.42866223,  793365.89839073,  673620.09003545,\n",
       "        629275.90834854,  463805.43801528,  184794.5131408 ,\n",
       "       1694856.78765525,  241630.23421897,  292386.44232807,\n",
       "        309662.94362123,  203437.85196761,  424305.44312753,\n",
       "        206087.60203487,  184794.5131408 , 1052093.36764676,\n",
       "        620885.33144335,  650453.13581593,  609138.32968463,\n",
       "        268505.41853738,  279561.72913424,  695700.57499643,\n",
       "        340842.74742825,  452689.67909927,  219610.19321582,\n",
       "        357142.33769114,  609604.86526241,  241481.14839308,\n",
       "        141302.95376691,  228683.34412097,  271054.53876359,\n",
       "        376328.28900749,  266263.82153915,  508616.76553276,\n",
       "        227954.51939859, 2411489.04945579,  650453.13581593,\n",
       "        665356.75785061,  303517.08155933,  110454.72978799,\n",
       "        459210.77896833,  535855.22110131,  209441.49906339,\n",
       "        141257.10382547,  457798.32174976,  553304.21698009,\n",
       "        565397.76068866,  423652.10314186,  111873.31557248,\n",
       "        173767.20142412,  391962.94730607,  358682.21182278,\n",
       "        556018.05219109,  535977.94413049,  457327.92624637,\n",
       "        825388.71781355,  439231.80862388,  316359.34529148,\n",
       "        776328.95232974,  781605.19629616,  467471.78053142,\n",
       "        425939.92531774,  124760.66626571,  201735.78089623,\n",
       "        733286.93104527,  418480.97279839,  468106.8639443 ,\n",
       "        253094.25053045,  250531.08360613,  384785.85089934,\n",
       "        586238.82569556,  512974.94171015,  788965.78961684,\n",
       "        349516.112961  ,  277886.86314255,  584052.31794054,\n",
       "        254894.16877574,  539675.90790395,  274301.06312591,\n",
       "        610469.26163145,  192599.58608577,  141573.79931761,\n",
       "        384785.85089934,  739258.16215171,  639520.85618657,\n",
       "        151621.93627385,  201508.02971369, 3871452.39519314,\n",
       "        515086.41184918,  253653.32000851,  244992.26516471,\n",
       "        384839.48775383,  134230.76001043,  347802.65100339,\n",
       "        694375.86435313,  426122.43308868,  246818.8703844 ,\n",
       "        435995.46386979,  364447.49315705,  226343.03211059,\n",
       "       1440673.09657653,  275566.98069438,  124368.6716481 ,\n",
       "        138568.04801768,  122069.74164607,  120781.33958344,\n",
       "        279705.86223499,  100257.20002866,  608953.07790018,\n",
       "        214623.05047606,  688188.10336259,  152254.83309149,\n",
       "        539821.10100109,  364902.49241036,  336917.87040763,\n",
       "        470752.03681222, 1441001.4083308 ,  158798.47755594,\n",
       "        346372.79663181,  125486.28741247,  650969.97234024,\n",
       "        313625.37800708,  367639.87282795,  507427.56453396,\n",
       "        338690.82825927,  673469.18089105,  282270.08224639,\n",
       "        351300.21625318,  381676.27824734,  653586.96609075,\n",
       "        334441.57393927,  357100.20586123,  515263.8430195 ,\n",
       "        922396.44093801,  117649.89370053,  214696.85615516,\n",
       "        299492.89500736,  129847.58730705,  523521.43620464,\n",
       "        391962.94730607,  178468.47221245,  726659.80316236,\n",
       "        143854.13626982,  236535.87204323,  425651.22142711,\n",
       "        172255.00033135,  448674.15303064,  321102.2575258 ,\n",
       "       1454950.88086018,  127913.54337654,  477262.35805091,\n",
       "        391534.05959668,  338135.16168469,  346372.79663181,\n",
       "        420672.74382071,  357803.57725697,  529550.40889148,\n",
       "        710834.36029565,  458039.84626507,  214497.32362406,\n",
       "        506982.44330727,  125486.28741247,  189284.79680973,\n",
       "        733286.93104527, 1052028.79528388,  604874.54644199,\n",
       "        881627.76526279, 1436939.76249127,  570228.59027949,\n",
       "        107095.40604598,  238734.98665368,  351769.32008164,\n",
       "        995622.54707055,  561712.467414  ,  529550.40889148,\n",
       "        272712.20713141,  328442.61922186,  605783.88057528,\n",
       "        451020.24675035,  355186.51493531,  278402.36322875,\n",
       "        296797.10697348,  616530.04447462,  368746.57299253,\n",
       "        369532.23949685, 1605654.1911907 ,  232606.94046621,\n",
       "        282868.96171202,  292327.713173  ,  789197.28068998,\n",
       "        650453.13581593,  511886.2371197 ,  327487.90145124,\n",
       "        215010.15808535,  460452.38238132,  930395.85829213,\n",
       "        543630.97069087, 1806357.04542999,  772848.006997  ,\n",
       "        249458.59368412,  418338.05481528,  145533.68542238,\n",
       "        726659.80316236,  503432.02080769,  561712.467414  ,\n",
       "        847840.13226808,  456993.82010042,  125791.72332577,\n",
       "        318387.29617463,  658522.29604106, 1121276.03302331,\n",
       "       1050919.76667049,  152254.83309149,  362103.96477459,\n",
       "        159331.10393879, 3414978.76150429,  307679.14213738,\n",
       "        763735.81127289,  261269.32643824,  663621.53383097,\n",
       "        643743.75223933, 1044916.14115766,  726659.80316236,\n",
       "        459099.78339536,  448595.81586078,  819715.35765751,\n",
       "        338982.9059928 ,  752499.18895388,  335525.09252114,\n",
       "        622258.70468144,  485714.78043545,  388045.9536487 ,\n",
       "        282653.67637289,  235320.23126037,  274054.6719331 ,\n",
       "        411081.06172021,  646911.72028841,  173182.66333815,\n",
       "        912086.06513171,  559641.55962611,  119767.30673798,\n",
       "        639520.85618657,  736677.99417251,  763958.71771899,\n",
       "        654349.50212152,  738052.62993657,  375201.02076292,\n",
       "        608277.31617825, 1426396.74052939,  511283.25386594,\n",
       "        892720.62143465,  573460.04651714,  513071.47976067,\n",
       "        415203.39799246,  152595.29398047,  245473.16137599,\n",
       "        273413.89886797,  304394.41286981,  330736.49349733,\n",
       "        971802.37407636,  178923.67703362,  250726.92986926,\n",
       "        330450.98912109,  498510.43982585,  367639.87282795,\n",
       "        623834.67159247,  901877.02678486,  272553.95388633,\n",
       "        412862.62521451,  370073.82676439, 1552805.10035857,\n",
       "        160630.72804105,  275787.55877257,  417028.4626732 ,\n",
       "       1055606.27623378,  121635.32238153,  657691.89440406,\n",
       "        604874.54644199,  389853.12182784,  578089.10731623,\n",
       "        339612.64279049, 3871452.39519314,  345946.84742934,\n",
       "        120206.87678237,  507157.02873863,  726659.80316236,\n",
       "        645075.94258384,  545253.74500755,  473571.30473835,\n",
       "        351300.21625318,  281617.39193952,  141928.35156826,\n",
       "        357142.33769114,  418338.05481528,  569863.59237426,\n",
       "        301553.04525854,  301671.99478928,  419795.00544398,\n",
       "        411495.45118324,  212757.14311793,  362434.90121951,\n",
       "        524789.40876905,  189284.79680973,  584498.4066356 ,\n",
       "        184620.99780785,  530691.35412413,  317457.99345389,\n",
       "        548925.30708699,  109350.79129707,  351592.22551794,\n",
       "        152861.48437518,  455868.2551624 ,  286975.04164393,\n",
       "        305590.58239741])"
      ]
     },
     "execution_count": 141,
     "metadata": {},
     "output_type": "execute_result"
    }
   ],
   "source": [
    "predictions"
   ]
  },
  {
   "cell_type": "code",
   "execution_count": null,
   "metadata": {},
   "outputs": [],
   "source": []
  },
  {
   "cell_type": "code",
   "execution_count": 143,
   "metadata": {
    "scrolled": true
   },
   "outputs": [
    {
     "data": {
      "text/plain": [
       "<AxesSubplot:xlabel='selling_price', ylabel='Density'>"
      ]
     },
     "execution_count": 143,
     "metadata": {},
     "output_type": "execute_result"
    },
    {
     "data": {
      "image/png": "[encoded data removed]",
      "text/plain": [
       "<Figure size 432x288 with 1 Axes>"
      ]
     },
     "metadata": {
      "needs_background": "light"
     },
     "output_type": "display_data"
    }
   ],
   "source": [
    "#How to compare prediction with y_test\n",
    "import warnings\n",
    "warnings.filterwarnings('ignore')\n",
    "sns.distplot(y_test-prediction)"
   ]
  },
  {
   "cell_type": "code",
   "execution_count": 144,
   "metadata": {},
   "outputs": [
    {
     "data": {
      "text/plain": [
       "<matplotlib.collections.PathCollection at 0x7fbb737181d0>"
      ]
     },
     "execution_count": 144,
     "metadata": {},
     "output_type": "execute_result"
    },
    {
     "data": {
      "image/png": "[encoded data removed]",
      "text/plain": [
       "<Figure size 432x288 with 1 Axes>"
      ]
     },
     "metadata": {
      "needs_background": "light"
     },
     "output_type": "display_data"
    }
   ],
   "source": [
    "plt.scatter(y_test,predictions)"
   ]
  },
  {
   "cell_type": "code",
   "execution_count": 146,
   "metadata": {},
   "outputs": [],
   "source": [
    "import pickle\n",
    "file=open('random_forest_regression_model.pkl','wb')\n"
   ]
  },
  {
   "cell_type": "code",
   "execution_count": 147,
   "metadata": {},
   "outputs": [],
   "source": [
    "pickle.dump(rf_random,file)"
   ]
  },
  {
   "cell_type": "code",
   "execution_count": null,
   "metadata": {},
   "outputs": [],
   "source": []
  }
 ],
 "metadata": {
  "kernelspec": {
   "display_name": "Python 3",
   "language": "python",
   "name": "python3"
  },
  "language_info": {
   "codemirror_mode": {
    "name": "ipython",
    "version": 3
   },
   "file_extension": ".py",
   "mimetype": "text/x-python",
   "name": "python",
   "nbconvert_exporter": "python",
   "pygments_lexer": "ipython3",
   "version": "3.7.9"
  }
 },
 "nbformat": 4,
 "nbformat_minor": 4
}
